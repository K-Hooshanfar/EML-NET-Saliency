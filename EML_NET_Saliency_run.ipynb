{
  "nbformat": 4,
  "nbformat_minor": 0,
  "metadata": {
    "colab": {
      "provenance": [],
      "gpuType": "T4"
    },
    "kernelspec": {
      "name": "python3",
      "display_name": "Python 3"
    },
    "language_info": {
      "name": "python"
    },
    "accelerator": "GPU"
  },
  "cells": [
    {
      "cell_type": "code",
      "execution_count": 1,
      "metadata": {
        "colab": {
          "base_uri": "https://localhost:8080/"
        },
        "id": "OrlBVcOyO7UT",
        "outputId": "7741f6f6-871e-48c2-e83c-a30b394a1448"
      },
      "outputs": [
        {
          "output_type": "stream",
          "name": "stdout",
          "text": [
            "Cloning into 'EML-NET-Saliency'...\n",
            "remote: Enumerating objects: 158, done.\u001b[K\n",
            "remote: Counting objects: 100% (9/9), done.\u001b[K\n",
            "remote: Compressing objects: 100% (9/9), done.\u001b[K\n",
            "remote: Total 158 (delta 4), reused 0 (delta 0), pack-reused 149\u001b[K\n",
            "Receiving objects: 100% (158/158), 5.88 MiB | 21.74 MiB/s, done.\n",
            "Resolving deltas: 100% (74/74), done.\n"
          ]
        }
      ],
      "source": [
        "!git clone https://github.com/K-Hooshanfar/EML-NET-Saliency.git"
      ]
    },
    {
      "cell_type": "code",
      "source": [
        "import zipfile\n",
        "import os\n",
        "\n",
        "zip_file_path = '/content/dataset-ECSAL-demo.zip'\n",
        "\n",
        "extracted_dir_path = '/content/'\n",
        "\n",
        "os.makedirs(extracted_dir_path, exist_ok=True)\n",
        "\n",
        "# Unzip the file\n",
        "with zipfile.ZipFile(zip_file_path, 'r') as zip_ref:\n",
        "    zip_ref.extractall(extracted_dir_path)\n",
        "\n",
        "os.listdir(extracted_dir_path)\n"
      ],
      "metadata": {
        "colab": {
          "base_uri": "https://localhost:8080/"
        },
        "id": "0f5eIEj4PAfi",
        "outputId": "01370c48-8a4d-44e4-9480-ba26a4dd07dc"
      },
      "execution_count": 3,
      "outputs": [
        {
          "output_type": "execute_result",
          "data": {
            "text/plain": [
              "['.config',\n",
              " 'EML-NET-Saliency',\n",
              " 'dataset_ECSAL_demo',\n",
              " 'dataset-ECSAL-demo.zip',\n",
              " 'sample_data']"
            ]
          },
          "metadata": {},
          "execution_count": 3
        }
      ]
    },
    {
      "cell_type": "code",
      "source": [
        "!pip install --upgrade torch\n",
        "!pip install --upgrade torchvision\n"
      ],
      "metadata": {
        "colab": {
          "base_uri": "https://localhost:8080/"
        },
        "id": "Kx_dGUD7CqaP",
        "outputId": "89cb2c51-2819-47d6-aab2-786f689a245c"
      },
      "execution_count": 4,
      "outputs": [
        {
          "output_type": "stream",
          "name": "stdout",
          "text": [
            "Requirement already satisfied: torch in /usr/local/lib/python3.10/dist-packages (2.1.0+cu118)\n",
            "Requirement already satisfied: filelock in /usr/local/lib/python3.10/dist-packages (from torch) (3.12.4)\n",
            "Requirement already satisfied: typing-extensions in /usr/local/lib/python3.10/dist-packages (from torch) (4.5.0)\n",
            "Requirement already satisfied: sympy in /usr/local/lib/python3.10/dist-packages (from torch) (1.12)\n",
            "Requirement already satisfied: networkx in /usr/local/lib/python3.10/dist-packages (from torch) (3.1)\n",
            "Requirement already satisfied: jinja2 in /usr/local/lib/python3.10/dist-packages (from torch) (3.1.2)\n",
            "Requirement already satisfied: fsspec in /usr/local/lib/python3.10/dist-packages (from torch) (2023.6.0)\n",
            "Requirement already satisfied: triton==2.1.0 in /usr/local/lib/python3.10/dist-packages (from torch) (2.1.0)\n",
            "Requirement already satisfied: MarkupSafe>=2.0 in /usr/local/lib/python3.10/dist-packages (from jinja2->torch) (2.1.3)\n",
            "Requirement already satisfied: mpmath>=0.19 in /usr/local/lib/python3.10/dist-packages (from sympy->torch) (1.3.0)\n",
            "Requirement already satisfied: torchvision in /usr/local/lib/python3.10/dist-packages (0.16.0+cu118)\n",
            "Requirement already satisfied: numpy in /usr/local/lib/python3.10/dist-packages (from torchvision) (1.23.5)\n",
            "Requirement already satisfied: requests in /usr/local/lib/python3.10/dist-packages (from torchvision) (2.31.0)\n",
            "Requirement already satisfied: torch==2.1.0 in /usr/local/lib/python3.10/dist-packages (from torchvision) (2.1.0+cu118)\n",
            "Requirement already satisfied: pillow!=8.3.*,>=5.3.0 in /usr/local/lib/python3.10/dist-packages (from torchvision) (9.4.0)\n",
            "Requirement already satisfied: filelock in /usr/local/lib/python3.10/dist-packages (from torch==2.1.0->torchvision) (3.12.4)\n",
            "Requirement already satisfied: typing-extensions in /usr/local/lib/python3.10/dist-packages (from torch==2.1.0->torchvision) (4.5.0)\n",
            "Requirement already satisfied: sympy in /usr/local/lib/python3.10/dist-packages (from torch==2.1.0->torchvision) (1.12)\n",
            "Requirement already satisfied: networkx in /usr/local/lib/python3.10/dist-packages (from torch==2.1.0->torchvision) (3.1)\n",
            "Requirement already satisfied: jinja2 in /usr/local/lib/python3.10/dist-packages (from torch==2.1.0->torchvision) (3.1.2)\n",
            "Requirement already satisfied: fsspec in /usr/local/lib/python3.10/dist-packages (from torch==2.1.0->torchvision) (2023.6.0)\n",
            "Requirement already satisfied: triton==2.1.0 in /usr/local/lib/python3.10/dist-packages (from torch==2.1.0->torchvision) (2.1.0)\n",
            "Requirement already satisfied: charset-normalizer<4,>=2 in /usr/local/lib/python3.10/dist-packages (from requests->torchvision) (3.3.0)\n",
            "Requirement already satisfied: idna<4,>=2.5 in /usr/local/lib/python3.10/dist-packages (from requests->torchvision) (3.4)\n",
            "Requirement already satisfied: urllib3<3,>=1.21.1 in /usr/local/lib/python3.10/dist-packages (from requests->torchvision) (2.0.7)\n",
            "Requirement already satisfied: certifi>=2017.4.17 in /usr/local/lib/python3.10/dist-packages (from requests->torchvision) (2023.7.22)\n",
            "Requirement already satisfied: MarkupSafe>=2.0 in /usr/local/lib/python3.10/dist-packages (from jinja2->torch==2.1.0->torchvision) (2.1.3)\n",
            "Requirement already satisfied: mpmath>=0.19 in /usr/local/lib/python3.10/dist-packages (from sympy->torch==2.1.0->torchvision) (1.3.0)\n"
          ]
        }
      ]
    },
    {
      "cell_type": "code",
      "source": [
        "import torch\n",
        "model = torch.hub.load('pytorch/vision:v0.10.0', 'resnet50', pretrained=True)\n",
        "torch.save(model.state_dict(), 'resnet50.pth.tar')\n"
      ],
      "metadata": {
        "colab": {
          "base_uri": "https://localhost:8080/"
        },
        "id": "3XQdVXxrCgOv",
        "outputId": "6a5b7d79-656b-47ac-b7cc-810ac20443ef"
      },
      "execution_count": 5,
      "outputs": [
        {
          "output_type": "stream",
          "name": "stderr",
          "text": [
            "Downloading: \"https://github.com/pytorch/vision/zipball/v0.10.0\" to /root/.cache/torch/hub/v0.10.0.zip\n",
            "Downloading: \"https://download.pytorch.org/models/resnet50-0676ba61.pth\" to /root/.cache/torch/hub/checkpoints/resnet50-0676ba61.pth\n",
            "100%|██████████| 97.8M/97.8M [00:00<00:00, 149MB/s]\n"
          ]
        }
      ]
    },
    {
      "cell_type": "markdown",
      "source": [
        "# Train a model"
      ],
      "metadata": {
        "id": "_O8ajdmZvvOz"
      }
    },
    {
      "cell_type": "code",
      "source": [
        "\n",
        "!python /content/EML-NET-Saliency/train_resnet.py /content/dataset_ECSAL_demo imagenet_resnet --model_path /content/resnet50.pth.tar\n"
      ],
      "metadata": {
        "colab": {
          "base_uri": "https://localhost:8080/"
        },
        "id": "4nlufwP8TxFu",
        "outputId": "1afee1a5-e90f-4860-87fb-a2f3dd6be70a"
      },
      "execution_count": 6,
      "outputs": [
        {
          "output_type": "stream",
          "name": "stdout",
          "text": [
            "Model loaded /content/resnet50.pth.tar\n",
            "26\n",
            "0\n",
            "/content/dataset_ECSAL_demo/train/train_stimuli/13.jpg\n",
            "/content/dataset_ECSAL_demo/train/train_fixation/13_fixPts.png\n",
            "/content/dataset_ECSAL_demo/train/train_saliency/13_fixMap.jpg\n",
            "1\n",
            "/content/dataset_ECSAL_demo/train/train_stimuli/16.jpg\n",
            "/content/dataset_ECSAL_demo/train/train_fixation/16_fixPts.png\n",
            "/content/dataset_ECSAL_demo/train/train_saliency/16_fixMap.jpg\n",
            "2\n",
            "/content/dataset_ECSAL_demo/train/train_stimuli/5.jpg\n",
            "/content/dataset_ECSAL_demo/train/train_fixation/5_fixPts.png\n",
            "/content/dataset_ECSAL_demo/train/train_saliency/5_fixMap.jpg\n",
            "3\n",
            "/content/dataset_ECSAL_demo/train/train_stimuli/1.jpg\n",
            "/content/dataset_ECSAL_demo/train/train_fixation/1_fixPts.png\n",
            "/content/dataset_ECSAL_demo/train/train_saliency/1_fixMap.jpg\n",
            "4\n",
            "/content/dataset_ECSAL_demo/train/train_stimuli/8.jpg\n",
            "/content/dataset_ECSAL_demo/train/train_fixation/8_fixPts.png\n",
            "/content/dataset_ECSAL_demo/train/train_saliency/8_fixMap.jpg\n",
            "5\n",
            "/content/dataset_ECSAL_demo/train/train_stimuli/17.jpg\n",
            "/content/dataset_ECSAL_demo/train/train_fixation/17_fixPts.png\n",
            "/content/dataset_ECSAL_demo/train/train_saliency/17_fixMap.jpg\n",
            "6\n",
            "/content/dataset_ECSAL_demo/train/train_stimuli/22.jpg\n",
            "/content/dataset_ECSAL_demo/train/train_fixation/22_fixPts.png\n",
            "/content/dataset_ECSAL_demo/train/train_saliency/22_fixMap.jpg\n",
            "7\n",
            "/content/dataset_ECSAL_demo/train/train_stimuli/20.jpg\n",
            "/content/dataset_ECSAL_demo/train/train_fixation/20_fixPts.png\n",
            "/content/dataset_ECSAL_demo/train/train_saliency/20_fixMap.jpg\n",
            "8\n",
            "/content/dataset_ECSAL_demo/train/train_stimuli/12.jpg\n",
            "/content/dataset_ECSAL_demo/train/train_fixation/12_fixPts.png\n",
            "/content/dataset_ECSAL_demo/train/train_saliency/12_fixMap.jpg\n",
            "9\n",
            "/content/dataset_ECSAL_demo/train/train_stimuli/26.jpg\n",
            "/content/dataset_ECSAL_demo/train/train_fixation/26_fixPts.png\n",
            "/content/dataset_ECSAL_demo/train/train_saliency/26_fixMap.jpg\n",
            "10\n",
            "/content/dataset_ECSAL_demo/train/train_stimuli/4.jpg\n",
            "/content/dataset_ECSAL_demo/train/train_fixation/4_fixPts.png\n",
            "/content/dataset_ECSAL_demo/train/train_saliency/4_fixMap.jpg\n",
            "11\n",
            "/content/dataset_ECSAL_demo/train/train_stimuli/29.jpg\n",
            "/content/dataset_ECSAL_demo/train/train_fixation/29_fixPts.png\n",
            "/content/dataset_ECSAL_demo/train/train_saliency/29_fixMap.jpg\n",
            "12\n",
            "/content/dataset_ECSAL_demo/train/train_stimuli/14.jpg\n",
            "/content/dataset_ECSAL_demo/train/train_fixation/14_fixPts.png\n",
            "/content/dataset_ECSAL_demo/train/train_saliency/14_fixMap.jpg\n",
            "13\n",
            "/content/dataset_ECSAL_demo/train/train_stimuli/24.jpg\n",
            "/content/dataset_ECSAL_demo/train/train_fixation/24_fixPts.png\n",
            "/content/dataset_ECSAL_demo/train/train_saliency/24_fixMap.jpg\n",
            "14\n",
            "/content/dataset_ECSAL_demo/train/train_stimuli/33.jpg\n",
            "/content/dataset_ECSAL_demo/train/train_fixation/33_fixPts.png\n",
            "/content/dataset_ECSAL_demo/train/train_saliency/33_fixMap.jpg\n",
            "15\n",
            "/content/dataset_ECSAL_demo/train/train_stimuli/11.jpg\n",
            "/content/dataset_ECSAL_demo/train/train_fixation/11_fixPts.png\n",
            "/content/dataset_ECSAL_demo/train/train_saliency/11_fixMap.jpg\n",
            "16\n",
            "/content/dataset_ECSAL_demo/train/train_stimuli/21.jpg\n",
            "/content/dataset_ECSAL_demo/train/train_fixation/21_fixPts.png\n",
            "/content/dataset_ECSAL_demo/train/train_saliency/21_fixMap.jpg\n",
            "17\n",
            "/content/dataset_ECSAL_demo/train/train_stimuli/25.jpg\n",
            "/content/dataset_ECSAL_demo/train/train_fixation/25_fixPts.png\n",
            "/content/dataset_ECSAL_demo/train/train_saliency/25_fixMap.jpg\n",
            "18\n",
            "/content/dataset_ECSAL_demo/train/train_stimuli/18.jpg\n",
            "/content/dataset_ECSAL_demo/train/train_fixation/18_fixPts.png\n",
            "/content/dataset_ECSAL_demo/train/train_saliency/18_fixMap.jpg\n",
            "19\n",
            "/content/dataset_ECSAL_demo/train/train_stimuli/7.jpg\n",
            "/content/dataset_ECSAL_demo/train/train_fixation/7_fixPts.png\n",
            "/content/dataset_ECSAL_demo/train/train_saliency/7_fixMap.jpg\n",
            "20\n",
            "/content/dataset_ECSAL_demo/train/train_stimuli/9.jpg\n",
            "/content/dataset_ECSAL_demo/train/train_fixation/9_fixPts.png\n",
            "/content/dataset_ECSAL_demo/train/train_saliency/9_fixMap.jpg\n",
            "21\n",
            "/content/dataset_ECSAL_demo/train/train_stimuli/15.jpg\n",
            "/content/dataset_ECSAL_demo/train/train_fixation/15_fixPts.png\n",
            "/content/dataset_ECSAL_demo/train/train_saliency/15_fixMap.jpg\n",
            "22\n",
            "/content/dataset_ECSAL_demo/train/train_stimuli/19.jpg\n",
            "/content/dataset_ECSAL_demo/train/train_fixation/19_fixPts.png\n",
            "/content/dataset_ECSAL_demo/train/train_saliency/19_fixMap.jpg\n",
            "23\n",
            "/content/dataset_ECSAL_demo/train/train_stimuli/31.jpg\n",
            "/content/dataset_ECSAL_demo/train/train_fixation/31_fixPts.png\n",
            "/content/dataset_ECSAL_demo/train/train_saliency/31_fixMap.jpg\n",
            "24\n",
            "/content/dataset_ECSAL_demo/train/train_stimuli/28.jpg\n",
            "/content/dataset_ECSAL_demo/train/train_fixation/28_fixPts.png\n",
            "/content/dataset_ECSAL_demo/train/train_saliency/28_fixMap.jpg\n",
            "25\n",
            "/content/dataset_ECSAL_demo/train/train_stimuli/2.jpg\n",
            "/content/dataset_ECSAL_demo/train/train_fixation/2_fixPts.png\n",
            "/content/dataset_ECSAL_demo/train/train_saliency/2_fixMap.jpg\n",
            "/content/dataset_ECSAL_demo\n",
            "/usr/local/lib/python3.10/dist-packages/torch/utils/data/dataloader.py:557: UserWarning: This DataLoader will create 4 worker processes in total. Our suggested max number of worker in current system is 2, which is smaller than what this DataLoader is going to create. Please be aware that excessive worker creation might get DataLoader running slow or even freeze, lower the worker number to avoid potential slowness/freeze if necessary.\n",
            "  warnings.warn(_create_warning_msg(\n",
            "Epoch: [0][0/4]\tLoss 16.9224395752 (16.9224395752)\n",
            "Epoch: [1][0/4]\tLoss 15.4187011719 (15.4187011719)\n",
            "Epoch: [2][0/4]\tLoss 15.8869047165 (15.8869047165)\n",
            "Epoch: [3][0/4]\tLoss 14.6678476334 (14.6678476334)\n",
            "Epoch: [4][0/4]\tLoss 14.7929553986 (14.7929553986)\n",
            "Epoch: [5][0/4]\tLoss 14.0288228989 (14.0288228989)\n",
            "Epoch: [6][0/4]\tLoss 14.5156164169 (14.5156164169)\n",
            "Epoch: [7][0/4]\tLoss 13.7264881134 (13.7264881134)\n",
            "Epoch: [8][0/4]\tLoss 14.4899349213 (14.4899349213)\n",
            "Epoch: [9][0/4]\tLoss 13.8880558014 (13.8880558014)\n"
          ]
        }
      ]
    },
    {
      "cell_type": "markdown",
      "source": [
        "# Make a prediction"
      ],
      "metadata": {
        "id": "AA13CHkOsAtN"
      }
    },
    {
      "cell_type": "code",
      "source": [
        "import gdown\n",
        "\n",
        "file_id = \"18nRz0JSRICLqnLQtAvq01azZAsH0SEzS\"\n",
        "output_path = \"res_imagenet.pth\"\n",
        "gdown.download(f\"https://drive.google.com/uc?id={file_id}\", output_path, quiet=False)\n"
      ],
      "metadata": {
        "colab": {
          "base_uri": "https://localhost:8080/",
          "height": 105
        },
        "id": "GuB-HFUBpSy4",
        "outputId": "ac91d71f-f741-4fb5-9527-e7ac98ed5f05"
      },
      "execution_count": 38,
      "outputs": [
        {
          "output_type": "stream",
          "name": "stderr",
          "text": [
            "Downloading...\n",
            "From: https://drive.google.com/uc?id=18nRz0JSRICLqnLQtAvq01azZAsH0SEzS\n",
            "To: /content/res_imagenet.pth\n",
            "100%|██████████| 94.5M/94.5M [00:00<00:00, 269MB/s]\n"
          ]
        },
        {
          "output_type": "execute_result",
          "data": {
            "text/plain": [
              "'res_imagenet.pth'"
            ],
            "application/vnd.google.colaboratory.intrinsic+json": {
              "type": "string"
            }
          },
          "metadata": {},
          "execution_count": 38
        }
      ]
    },
    {
      "cell_type": "code",
      "source": [
        "import gdown\n",
        "\n",
        "file_id = \"1vwrkz3eX-AMtXQE08oivGMwS4lKB74sH\"\n",
        "output_path = \"res_decoder.pth\"\n",
        "gdown.download(f\"https://drive.google.com/uc?id={file_id}\", output_path, quiet=False)\n"
      ],
      "metadata": {
        "colab": {
          "base_uri": "https://localhost:8080/",
          "height": 105
        },
        "id": "APk0j3FFuJ2S",
        "outputId": "8508b26b-d956-4401-850f-6383b7e2ac44"
      },
      "execution_count": 40,
      "outputs": [
        {
          "output_type": "stream",
          "name": "stderr",
          "text": [
            "Downloading...\n",
            "From: https://drive.google.com/uc?id=1vwrkz3eX-AMtXQE08oivGMwS4lKB74sH\n",
            "To: /content/res_decoder.pth\n",
            "100%|██████████| 14.6k/14.6k [00:00<00:00, 27.4MB/s]\n"
          ]
        },
        {
          "output_type": "execute_result",
          "data": {
            "text/plain": [
              "'res_decoder.pth'"
            ],
            "application/vnd.google.colaboratory.intrinsic+json": {
              "type": "string"
            }
          },
          "metadata": {},
          "execution_count": 40
        }
      ]
    },
    {
      "cell_type": "code",
      "source": [
        "import gdown\n",
        "\n",
        "file_id = \"18nRz0JSRICLqnLQtAvq01azZAsH0SEzS\"\n",
        "output_path = \"res_places.pth\"\n",
        "gdown.download(f\"https://drive.google.com/uc?id={file_id}\", output_path, quiet=False)\n"
      ],
      "metadata": {
        "colab": {
          "base_uri": "https://localhost:8080/",
          "height": 105
        },
        "id": "DJel_RQSun8D",
        "outputId": "86400edf-e053-4dc0-b500-950839983625"
      },
      "execution_count": 41,
      "outputs": [
        {
          "output_type": "stream",
          "name": "stderr",
          "text": [
            "Downloading...\n",
            "From: https://drive.google.com/uc?id=18nRz0JSRICLqnLQtAvq01azZAsH0SEzS\n",
            "To: /content/res_places.pth\n",
            "100%|██████████| 94.5M/94.5M [00:00<00:00, 238MB/s]\n"
          ]
        },
        {
          "output_type": "execute_result",
          "data": {
            "text/plain": [
              "'res_places.pth'"
            ],
            "application/vnd.google.colaboratory.intrinsic+json": {
              "type": "string"
            }
          },
          "metadata": {},
          "execution_count": 41
        }
      ]
    },
    {
      "cell_type": "code",
      "source": [
        "!python /content/EML-NET-Saliency/eval_combined.py /content/res_imagenet.pth /content/res_places.pth /content/res_decoder.pth /content/dataset_ECSAL_demo/val/val_stimuli/10.jpg\n"
      ],
      "metadata": {
        "id": "Khaqln8CEVBn",
        "colab": {
          "base_uri": "https://localhost:8080/"
        },
        "outputId": "7d616594-534e-4293-83f6-01aef48dec3b"
      },
      "execution_count": 43,
      "outputs": [
        {
          "output_type": "stream",
          "name": "stdout",
          "text": [
            "Model loaded /content/res_imagenet.pth\n",
            "Model loaded /content/res_places.pth\n",
            "Loaded decoder /content/res_decoder.pth\n",
            "Saving prediction 10_smap.png\n",
            "Figure(640x480)\n"
          ]
        }
      ]
    },
    {
      "cell_type": "code",
      "source": [],
      "metadata": {
        "id": "VUznIQKUt8Hl"
      },
      "execution_count": null,
      "outputs": []
    }
  ]
}